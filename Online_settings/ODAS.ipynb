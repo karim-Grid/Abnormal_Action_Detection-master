{
  "cells": [
    {
      "cell_type": "code",
      "execution_count": 3,
      "metadata": {
        "colab": {},
        "colab_type": "code",
        "id": "48O0uHIae1NA"
      },
      "outputs": [
        {
          "ename": "ModuleNotFoundError",
          "evalue": "No module named 'keras'",
          "output_type": "error",
          "traceback": [
            "\u001b[1;31m---------------------------------------------------------------------------\u001b[0m",
            "\u001b[1;31mModuleNotFoundError\u001b[0m                       Traceback (most recent call last)",
            "\u001b[1;32m<ipython-input-3-efd597a44e66>\u001b[0m in \u001b[0;36m<module>\u001b[1;34m\u001b[0m\n\u001b[1;32m----> 1\u001b[1;33m \u001b[1;32mfrom\u001b[0m \u001b[0mkeras\u001b[0m\u001b[1;33m.\u001b[0m\u001b[0mlayers\u001b[0m \u001b[1;32mimport\u001b[0m \u001b[0mInput\u001b[0m\u001b[1;33m,\u001b[0m \u001b[0mConv3D\u001b[0m\u001b[1;33m,\u001b[0m \u001b[0mMaxPooling3D\u001b[0m\u001b[1;33m,\u001b[0m \u001b[0mDense\u001b[0m\u001b[1;33m,\u001b[0m \u001b[0mFlatten\u001b[0m\u001b[1;33m,\u001b[0m \u001b[0mZeroPadding3D\u001b[0m\u001b[1;33m,\u001b[0m \u001b[0mDropout\u001b[0m\u001b[1;33m,\u001b[0m \u001b[0mSubtract\u001b[0m\u001b[1;33m\u001b[0m\u001b[1;33m\u001b[0m\u001b[0m\n\u001b[0m\u001b[0;32m      2\u001b[0m \u001b[1;32mfrom\u001b[0m \u001b[0mkeras\u001b[0m\u001b[1;33m.\u001b[0m\u001b[0mmodels\u001b[0m \u001b[1;32mimport\u001b[0m \u001b[0mModel\u001b[0m\u001b[1;33m\u001b[0m\u001b[1;33m\u001b[0m\u001b[0m\n\u001b[0;32m      3\u001b[0m \u001b[1;32mimport\u001b[0m \u001b[0mkeras\u001b[0m\u001b[1;33m.\u001b[0m\u001b[0mbackend\u001b[0m \u001b[1;32mas\u001b[0m \u001b[0mK\u001b[0m\u001b[1;33m\u001b[0m\u001b[1;33m\u001b[0m\u001b[0m\n\u001b[0;32m      4\u001b[0m \u001b[1;32mimport\u001b[0m \u001b[0mkeras\u001b[0m\u001b[1;33m.\u001b[0m\u001b[0mlosses\u001b[0m\u001b[1;33m\u001b[0m\u001b[1;33m\u001b[0m\u001b[0m\n\u001b[0;32m      5\u001b[0m \u001b[0mkeras\u001b[0m\u001b[1;33m.\u001b[0m\u001b[0mlosses\u001b[0m\u001b[1;33m.\u001b[0m\u001b[0mloss_classification\u001b[0m \u001b[1;33m=\u001b[0m \u001b[0mloss_classification\u001b[0m\u001b[1;33m\u001b[0m\u001b[1;33m\u001b[0m\u001b[0m\n",
            "\u001b[1;31mModuleNotFoundError\u001b[0m: No module named 'keras'"
          ]
        }
      ],
      "source": [
        "from keras.layers import Input, Conv3D, MaxPooling3D, Dense, Flatten, ZeroPadding3D, Dropout, Subtract\n",
        "from keras.models import Model\n",
        "import keras.backend as K\n",
        "import keras.losses\n",
        "keras.losses.loss_classification = loss_classification\n",
        "keras.losses.loss_temporal_consistency = loss_temporal_consistency\n",
        "\n",
        "def ODAS():\n",
        "    \"\"\"Instantiates a ODAS Keras model\n",
        "    \n",
        "    Returns:\n",
        "    A Keras model.\n",
        "    \n",
        "    \"\"\"\n",
        "    \n",
        "    if K.image_data_format() == 'channels_last':\n",
        "        shape0 = (16,112,112,3)\n",
        "    else:\n",
        "        shape0 = (3,16,112,112)\n",
        "        \n",
        "        \n",
        "    main_input = Input(shape=shape0, dtype='float32', name='main_input')\n",
        "    \n",
        "    conv1 = Conv3D(64, 3, activation='relu', padding='same', name='conv1')(main_input)\n",
        "    pool1 = MaxPooling3D(pool_size=(1,2,2), strides=(1,2,2), padding='same', name='pool1')(conv1)\n",
        "    \n",
        "    conv2 = Conv3D(128, 3, activation='relu', padding='same', name='conv2')(pool1)\n",
        "    pool2 = MaxPooling3D(pool_size=(2,2,2), strides=(2,2,2), padding='valid', name='pool2')(conv2)\n",
        "    \n",
        "    conv3a = Conv3D(256, 3, activation='relu', padding='same', name='conv3a')(pool2)\n",
        "    conv3b = Conv3D(256, 3, activation='relu', padding='same', name='conv3b')(conv3a)\n",
        "    pool3 = MaxPooling3D(pool_size=(2,2,2), strides=(2,2,2), padding='valid', name='pool3')(conv3b)\n",
        "    \n",
        "    conv4a = Conv3D(512, 3, activation='relu', padding='same', name='conv4a')(pool3)\n",
        "    conv4b = Conv3D(512, 3, activation='relu', padding='same', name='conv4b')(conv4a)\n",
        "    pool4 = MaxPooling3D(pool_size=(2,2,2), strides=(2,2,2), padding='valid', name='pool4')(conv4b)\n",
        "    \n",
        "    conv5a = Conv3D(512, 3, activation='relu', padding='same', name='conv5a')(pool4)\n",
        "    conv5b = Conv3D(512, 3, activation='relu', padding='same', name='conv5b')(conv5a)\n",
        "    zero = ZeroPadding3D(padding=(0,1,1))(conv5b)\n",
        "    pool5 = MaxPooling3D(pool_size=(2,2,2), strides=(2,2,2), padding='valid', name='pool5')(zero)\n",
        "    \n",
        "    flat = Flatten()(pool5)\n",
        "    \n",
        "    fc6= Dense(4096, activation='relu', name='fc6')(flat)\n",
        "    drop1 = Dropout(0.5)(fc6)\n",
        "    fc7 = Dense(4096, activation='relu', name='fc7')(drop1)\n",
        "           \n",
        "    model_fc7 = Model(main_input, fc7)\n",
        "   \n",
        "    start_window = Input(shape=shape0)\n",
        "    followup_window = Input(shape=shape0)\n",
        "    \n",
        "    out1 = model_fc7(start_window)\n",
        "    out2 = model_fc7(followup_window)\n",
        "    out = Subtract(name='out')([out1, out2])\n",
        "    \n",
        "    drop2 = Dropout(0.5)(out1)\n",
        "    fc8 = Dense(2, activation='softmax', name='fc8')(drop2)\n",
        "    \n",
        "    model = Model([start_window,followup_window],[fc8,out])\n",
        "    \n",
        "    model.compile(optimizer='adam',\n",
        "              loss={'fc8': 'loss_classification', 'out': 'loss_temporal_consistency'},\n",
        "              loss_weights={'fc8': 1., 'out': 1})\n",
        "    \n",
        "    return model\n",
        "\n",
        "def loss_classification(y_true, y_pred):\n",
        "    return -K.mean(K.log(K.dot(y_pred,K.transpose(y_true))), axis=-1)\n",
        "    \n",
        "def loss_temporal_consistency(y_true,out):\n",
        "    return K.mean(K.square(K.dot(out,K.transpose(y_true))), axis=-1)\n",
        "\n",
        "model = ODAS()\n",
        "\n",
        "#model.fit([start_window, followup_window], [labels, labels], epochs=50, batch_size=32)"
      ]
    },
    {
      "cell_type": "code",
      "execution_count": null,
      "metadata": {},
      "outputs": [],
      "source": []
    },
    {
      "cell_type": "code",
      "execution_count": 4,
      "metadata": {},
      "outputs": [
        {
          "ename": "SyntaxError",
          "evalue": "invalid syntax (<ipython-input-4-b48a780b13bf>, line 1)",
          "output_type": "error",
          "traceback": [
            "\u001b[1;36m  File \u001b[1;32m\"<ipython-input-4-b48a780b13bf>\"\u001b[1;36m, line \u001b[1;32m1\u001b[0m\n\u001b[1;33m    import Keras,\u001b[0m\n\u001b[1;37m                 ^\u001b[0m\n\u001b[1;31mSyntaxError\u001b[0m\u001b[1;31m:\u001b[0m invalid syntax\n"
          ]
        }
      ],
      "source": [
        "import Keras,"
      ]
    },
    {
      "cell_type": "code",
      "execution_count": null,
      "metadata": {},
      "outputs": [],
      "source": []
    }
  ],
  "metadata": {
    "colab": {
      "collapsed_sections": [],
      "name": "ODAS.ipynb",
      "provenance": [],
      "version": "0.3.2"
    },
    "kernelspec": {
      "display_name": "Python 3.6.13 ('fb-scraper')",
      "language": "python",
      "name": "python3"
    },
    "language_info": {
      "codemirror_mode": {
        "name": "ipython",
        "version": 3
      },
      "file_extension": ".py",
      "mimetype": "text/x-python",
      "name": "python",
      "nbconvert_exporter": "python",
      "pygments_lexer": "ipython3",
      "version": "3.6.13"
    },
    "vscode": {
      "interpreter": {
        "hash": "30b77912fc73100ff27a02d136ab4a32a9cd8d70b0deb84091e7a9fc2acb1e2f"
      }
    }
  },
  "nbformat": 4,
  "nbformat_minor": 0
}
